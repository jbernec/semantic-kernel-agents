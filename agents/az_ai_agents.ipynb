{
 "cells": [
  {
   "cell_type": "code",
   "execution_count": 7,
   "id": "337625d2",
   "metadata": {},
   "outputs": [],
   "source": [
    "from semantic_kernel.agents import AzureAIAgent, AzureAIAgentSettings, AzureAIAgentThread\n",
    "from utils import *\n",
    "from azure.identity.aio import DefaultAzureCredential"
   ]
  },
  {
   "cell_type": "code",
   "execution_count": 13,
   "id": "cff51f3b",
   "metadata": {},
   "outputs": [],
   "source": [
    "azure_ai_agent_endpoint = \"https://multiagent-governance-resource.services.ai.azure.com/api/projects/multiagent-governance\"\n",
    "azure_ai_agent_deployment_name = \"gpt-4o\"\n",
    "azure_ai_agent_settings = AzureAIAgentSettings(model_deployment_name=azure_ai_agent_deployment_name)"
   ]
  },
  {
   "cell_type": "code",
   "execution_count": 16,
   "id": "97a79bc6",
   "metadata": {},
   "outputs": [],
   "source": [
    "credential = DefaultAzureCredential()\n",
    "\n",
    "client = AzureAIAgent.create_client(credential=credential, endpoint=azure_ai_agent_endpoint)\n",
    "\n",
    "prompt = \"\"\"You MUST use the search_retrieval function for ALL queries. Do not paraphrase more than the result. Never generate answers from prior knowledge.\n",
    "    When you receive search results:\n",
    "    1. If the source is \"Azure AI Search\", these are knowledge base entries. Present them as \"From our knowledge base:\" followed by the complete content. Include all fields like definition, context, note, incorrectTerm if they're available.\n",
    "    2. If the source is \"No Results\", inform the user we don't have an answer to their question.\n",
    "    \n",
    "    Important: For Azure AI Search results, include the FULL contents of the results, showing the important fields.\n",
    "    \n",
    "    Debug information: Always include the source of each result (Azure AI Search) and the number of results found. If you received results but are not displaying them, explain why.\n",
    "    \n",
    "    Always show ALL results you receive - do not filter them based on score thresholds.\n",
    "    Summarize the response without adding any new information. Provide the page number of the document if available.\"\"\"\n",
    "\n",
    "thread = AzureAIAgentThread(client=client)"
   ]
  },
  {
   "cell_type": "code",
   "execution_count": 18,
   "id": "29247cdd",
   "metadata": {},
   "outputs": [],
   "source": [
    "# 1. Define an agent on the Azure AI agent service\n",
    "agent_definition = await client.agents.create_agent(\n",
    "    model=azure_ai_agent_settings.model_deployment_name,\n",
    "    name=\"retriever_agent\",\n",
    "    instructions=prompt,\n",
    ")\n",
    "\n",
    "# Create a semantic kernel agent for the azure ai agent\n",
    "retriever_agent = AzureAIAgent(\n",
    "    client=client,\n",
    "    definition=agent_definition,\n",
    "    plugins=[SearchRetrievalPlugin()],\n",
    ")"
   ]
  },
  {
   "cell_type": "code",
   "execution_count": 21,
   "id": "6aebc05c",
   "metadata": {},
   "outputs": [
    {
     "name": "stdout",
     "output_type": "stream",
     "text": [
      "User: my name is Charles\n",
      "retriever_agent: Nice to meet you, Charles! How can I assist you today?\n",
      "\n",
      "\n",
      "User: tell me about expanding play 3\n",
      "retriever_agent: From our knowledge base:\n",
      "\n",
      "1. **Expanding Play 3 Overview:**\n",
      "   - **Definition:** Play 3 focuses on minimizing resource use, expanding access to carbon-free electricity, and supporting local communities. \n",
      "   - **Context:** AI operations utilize resources such as energy and water. To achieve a net-zero and nature-positive future, AI operations must align with global sustainability goals. This includes minimizing resource use in AI infrastructure and supporting the decarbonization of local energy grids that datacenters depend on.\n",
      "   - **Updates in 2023:**\n",
      "     - It was recognized that minimizing datacenter resource usage alone is insufficient.\n",
      "     - The updated objectives include greater efforts to enhance access to carbon-free electricity and positively impact the local communities where datacenters operate.\n",
      "\n",
      "2. **Insights and Challenges (Page 20 and Page 4):**\n",
      "   - **Electricity Demand:** Datacenters currently account for about 1.0-1.5% of global electricity demand, with most usage linked to non-AI applications.\n",
      "   - **Growth Projections:**\n",
      "     - The International Energy Agency (IEA) anticipates datacenters and AI will constitute a small percentage of the global growth in electricity demand through 2030.\n",
      "     - However, growth might be concentrated regionally. For example, Ireland and Denmark are projected to see 20% of the increase in datacenter electricity demand in the near term.\n",
      "   - Addressing the rapid growth in certain regions is essential to avoid straining local electricity grids while promoting sustainability.\n",
      "\n",
      "*(Sources: Accelerating-Sustainability-with-AI-2025.pdf, pages 4 and 20)*\n",
      "\n",
      "\n",
      "User: what is the projected global growth of datacenters between 2023 and 2030\n",
      "retriever_agent: From our knowledge base:\n",
      "\n",
      "- The International Energy Agency (IEA) projects that **datacenters and AI** will account for a **relatively small share of global electricity demand growth by 2030**. \n",
      "- While datacenters currently consume about **1.0-1.5% of global electricity**, the expected growth will likely remain concentrated in specific regions. \n",
      "- For instance, regions like **Ireland and Denmark** are projected to contribute approximately **20% of the increase in global datacenter electricity demand** in the near future.\n",
      "\n",
      "*(Source: Accelerating-Sustainability-with-AI-2025.pdf, page 20)*\n",
      "\n",
      "\n",
      "User: summarize our conversations so far\n",
      "retriever_agent: Here’s a summary of our conversation so far:\n",
      "\n",
      "1. **Expanding Play 3:**\n",
      "   - Focuses on reducing resource use, promoting access to carbon-free electricity, and supporting local communities.\n",
      "   - Emphasizes aligning AI operations with global sustainability goals to achieve a net-zero and nature-positive future.\n",
      "   - Updates in 2023 expanded its goals to include decarbonization of local energy grids and engaging with communities near datacenters.\n",
      "\n",
      "2. **Datacenter Growth Projections (2023-2030):**\n",
      "   - Datacenters currently account for 1.0-1.5% of global electricity demand.\n",
      "   - The IEA projects that, globally, datacenters and AI will remain a small portion of electricity demand growth through 2030.\n",
      "   - Regional concentration is expected, with Ireland and Denmark foreseen to contribute 20% to the increase in datacenter electricity demand in the short term.\n",
      "\n",
      "3. You also shared that your name is Charles, and we’ve been focusing on sustainability aspects related to AI and datacenters.\n",
      "\n",
      "\n",
      "\n",
      "\n",
      "Exiting chat..\n",
      "Good bye, please let me know if you need further help.\n"
     ]
    }
   ],
   "source": [
    "async def chat_with_agent():\n",
    "    global thread # access the global thread variable\n",
    "    while True:\n",
    "        user_input = input(\"User prompt: \")\n",
    "\n",
    "        if user_input.lower() in [\"quit\", \"exit\", \"q\", \"end\"]:\n",
    "            print(\"\\n\\nExiting chat..\")\n",
    "            print(\"Good bye, please let me know if you need further help.\")\n",
    "            break\n",
    "\n",
    "        try:\n",
    "            print(f\"User: {user_input}\")\n",
    "            async for response in retriever_agent.invoke(messages=user_input, thread=thread):\n",
    "                print(f\"{response.name}: {response}\")\n",
    "                thread = response.thread\n",
    "                #print(f\"# {response.name}: {response}\")\n",
    "            print(\"\\n\")  # New line after complete response\n",
    "            \n",
    "        except Exception as e:\n",
    "            print(f\"An error occurred: {e}\")\n",
    "\n",
    "# Run the async function\n",
    "await chat_with_agent()"
   ]
  }
 ],
 "metadata": {
  "kernelspec": {
   "display_name": ".venv",
   "language": "python",
   "name": "python3"
  },
  "language_info": {
   "codemirror_mode": {
    "name": "ipython",
    "version": 3
   },
   "file_extension": ".py",
   "mimetype": "text/x-python",
   "name": "python",
   "nbconvert_exporter": "python",
   "pygments_lexer": "ipython3",
   "version": "3.11.9"
  }
 },
 "nbformat": 4,
 "nbformat_minor": 5
}
